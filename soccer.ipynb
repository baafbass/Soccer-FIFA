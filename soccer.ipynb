import pandas as pd
data_frame=pd.read_csv('data.csv')
print(data_frame.shape)
print(data_frame.describe())
print(data_frame.values)
print(data_frame)
print(data_frame["Age"].hist())
